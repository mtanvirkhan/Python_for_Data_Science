{
 "cells": [
  {
   "cell_type": "markdown",
   "id": "c90c2d02-09c2-456c-9cfb-85ac79936f36",
   "metadata": {},
   "source": [
    "# List"
   ]
  },
  {
   "cell_type": "code",
   "execution_count": 1,
   "id": "98e208ee-65f7-41c3-9720-398b41946489",
   "metadata": {},
   "outputs": [],
   "source": [
    "countries = ['USA', 'UK', 'Bangladesh', 'Sri Lanka']"
   ]
  },
  {
   "cell_type": "code",
   "execution_count": 2,
   "id": "4636820d-a03f-4077-b20d-44e1f7c30e33",
   "metadata": {},
   "outputs": [
    {
     "data": {
      "text/plain": [
       "['USA', 'UK', 'Bangladesh', 'Sri Lanka']"
      ]
     },
     "execution_count": 2,
     "metadata": {},
     "output_type": "execute_result"
    }
   ],
   "source": [
    "countries"
   ]
  },
  {
   "cell_type": "code",
   "execution_count": 5,
   "id": "a5ee91d6-42a8-438d-a3d8-e5a40b34a750",
   "metadata": {},
   "outputs": [
    {
     "data": {
      "text/plain": [
       "'Sri Lanka'"
      ]
     },
     "execution_count": 5,
     "metadata": {},
     "output_type": "execute_result"
    }
   ],
   "source": [
    "countries[0]\n",
    "countries[1]\n",
    "countries[2]\n",
    "countries[3]"
   ]
  },
  {
   "cell_type": "code",
   "execution_count": 4,
   "id": "b88b1235-81cf-4400-8889-0a42f315b73f",
   "metadata": {},
   "outputs": [
    {
     "name": "stdout",
     "output_type": "stream",
     "text": [
      "USA\n",
      "UK\n",
      "Bangladesh\n",
      "Sri Lanka\n"
     ]
    }
   ],
   "source": [
    "print(countries[0])\n",
    "print(countries[1])\n",
    "print(countries[2])\n",
    "print(countries[3])"
   ]
  },
  {
   "cell_type": "code",
   "execution_count": 28,
   "id": "d9d373b8-12f2-4512-8949-b8c68a9b64ea",
   "metadata": {},
   "outputs": [
    {
     "name": "stdout",
     "output_type": "stream",
     "text": [
      "['USA', 'UK', 'Bangladesh', 'Sri Lanka']\n",
      "Sri Lanka\n",
      "Bangladesh\n",
      "UK\n",
      "USA\n"
     ]
    }
   ],
   "source": [
    "print(countries)\n",
    "print(countries[-1])\n",
    "print(countries[-2])\n",
    "print(countries[-3])\n",
    "print(countries[-4])"
   ]
  },
  {
   "cell_type": "markdown",
   "id": "1ba87dcd-ec05-4c57-a1a0-3e936b984b74",
   "metadata": {},
   "source": [
    "# Slice"
   ]
  },
  {
   "cell_type": "code",
   "execution_count": 37,
   "id": "d23e2e77-fe4f-4371-8a22-1e5a445b34bf",
   "metadata": {},
   "outputs": [
    {
     "name": "stdout",
     "output_type": "stream",
     "text": [
      "# If the start index is equal to or greater than end, the slice will be empty, because slices generate elements starting from the start up to but not including end.\n",
      "countries:  ['USA', 'UK', 'Bangladesh', 'Sri Lanka']\n",
      "#########################\n",
      "[]\n",
      "countries[0:1] from index 0 to index 0:  ['USA']\n",
      "countries[0:2] from index 0 to index 1:  ['USA', 'UK']\n",
      "countries[0:3] from index 0 to index 2:  ['USA', 'UK', 'Bangladesh']\n",
      "countries[0:4] from index 0 to index 3:  ['USA', 'UK', 'Bangladesh', 'Sri Lanka']\n",
      "#########################\n",
      "[]\n",
      "[]\n",
      "countries[1:2] from index 1 to index 1:  ['UK']\n",
      "countries[1:3] from index 1 to index 2:  ['UK', 'Bangladesh']\n",
      "countries[1:4] from index 1 to index 3:  ['UK', 'Bangladesh', 'Sri Lanka']\n",
      "#########################\n",
      "[]\n",
      "[]\n",
      "[]\n",
      "countries[2:3] from index 2 to index 2:  ['Bangladesh']\n",
      "countries[2:4] from index 2 to index 3:  ['Bangladesh', 'Sri Lanka']\n",
      "#########################\n",
      "[]\n",
      "[]\n",
      "[]\n",
      "[]\n",
      "countries[3:4] from index 3 to index 3:  ['Sri Lanka']\n",
      "#########################\n",
      "[]\n",
      "[]\n",
      "[]\n",
      "[]\n",
      "[]\n",
      "#########################\n",
      "countries[:4]  ['USA', 'UK', 'Bangladesh', 'Sri Lanka']\n",
      "countries[0:]  ['USA', 'UK', 'Bangladesh', 'Sri Lanka']\n",
      "############ Complicated #############\n",
      "countries[-1:0] from -1 to -1:  []\n",
      "countries[-2:0] from index -2 to -1:  []\n",
      "countries[-3:0] from index -3 to -1:  []\n",
      "countries[-4:0] from index -4 to -1:  []\n",
      "############ Complicated #############\n",
      "countries[-1:1] from -1 to index 0:  []\n",
      "countries[-2:1] from index -2 to index 0:  []\n",
      "countries[-3:1] from index -3 to index 0:  []\n",
      "countries[-4:1] from index -4 to index 0:  ['USA']\n",
      "############ Complicated #############\n",
      "countries[-1:2] from -1 to index 1:  []\n",
      "countries[-2:2] from index -2 to index 1:  []\n",
      "countries[-3:2] from index -3 to index 1:  ['UK']\n",
      "countries[-4:2] from index -4 to index 1:  ['USA', 'UK']\n"
     ]
    }
   ],
   "source": [
    "print(\"# If the start index is equal to or greater than end, the slice will be empty, because slices generate elements starting from the start up to but not including end.\")\n",
    "print(\"countries: \", countries)\n",
    "print('#########################')\n",
    "print(countries[0:0])\n",
    "print(\"countries[0:1] from index 0 to index 0: \", countries[0:1])\n",
    "print(\"countries[0:2] from index 0 to index 1: \", countries[0:2])\n",
    "print(\"countries[0:3] from index 0 to index 2: \", countries[0:3])\n",
    "print(\"countries[0:4] from index 0 to index 3: \", countries[0:4])\n",
    "print('#########################')\n",
    "print(countries[1:0])\n",
    "print(countries[1:1])\n",
    "print(\"countries[1:2] from index 1 to index 1: \", countries[1:2])\n",
    "print(\"countries[1:3] from index 1 to index 2: \", countries[1:3])\n",
    "print(\"countries[1:4] from index 1 to index 3: \", countries[1:4])\n",
    "print('#########################')\n",
    "print(countries[2:0])\n",
    "print(countries[2:1])\n",
    "print(countries[2:2])\n",
    "print(\"countries[2:3] from index 2 to index 2: \", countries[2:3])\n",
    "print(\"countries[2:4] from index 2 to index 3: \", countries[2:4])\n",
    "print('#########################')\n",
    "print(countries[3:0])\n",
    "print(countries[3:1])\n",
    "print(countries[3:2])\n",
    "print(countries[3:3])\n",
    "print(\"countries[3:4] from index 3 to index 3: \", countries[3:4])\n",
    "print('#########################')\n",
    "print(countries[4:0])\n",
    "print(countries[4:1])\n",
    "print(countries[4:2])\n",
    "print(countries[4:3])\n",
    "print(countries[4:4])\n",
    "print('#########################')\n",
    "print(\"countries[:4] \", countries[:4])\n",
    "print(\"countries[0:] \", countries[0:])\n",
    "print('############ Complicated #############')\n",
    "print(\"countries[-1:0] from -1 to -1: \", countries[-1:0])\n",
    "print(\"countries[-2:0] from index -2 to -1: \", countries[-2:0])\n",
    "print(\"countries[-3:0] from index -3 to -1: \", countries[-3:0])\n",
    "print(\"countries[-4:0] from index -4 to -1: \", countries[-4:0])\n",
    "print('############ Complicated #############')\n",
    "print(\"countries[-1:1] from -1 to index 0: \", countries[-1:1])\n",
    "print(\"countries[-2:1] from index -2 to index 0: \", countries[-2:1])\n",
    "print(\"countries[-3:1] from index -3 to index 0: \", countries[-3:1])\n",
    "print(\"countries[-4:1] from index -4 to index 0: \", countries[-4:1])\n",
    "print('############ Complicated #############')\n",
    "print(\"countries[-1:2] from -1 to index 1: \", countries[-1:2])\n",
    "print(\"countries[-2:2] from index -2 to index 1: \", countries[-2:2])\n",
    "print(\"countries[-3:2] from index -3 to index 1: \", countries[-3:2])\n",
    "print(\"countries[-4:2] from index -4 to index 1: \", countries[-4:2])"
   ]
  },
  {
   "cell_type": "markdown",
   "id": "06b35dfa-85f1-4d38-a2f4-ed4a16645519",
   "metadata": {},
   "source": [
    "### Adding elements in a list"
   ]
  },
  {
   "cell_type": "code",
   "execution_count": 38,
   "id": "9513952e-1ec3-442b-8649-520cfdab1923",
   "metadata": {},
   "outputs": [],
   "source": [
    "countries_1 = ['UK', 'USA', 'Canada', 'Bangladesh', 'Sri Lanka']\n",
    "countries_2 = ['Scotland', 'Germany', 'Japan']"
   ]
  },
  {
   "cell_type": "code",
   "execution_count": 41,
   "id": "87c3afe8-c90e-437a-b2a9-2770cf1b5ddf",
   "metadata": {},
   "outputs": [
    {
     "name": "stdout",
     "output_type": "stream",
     "text": [
      "['UK', 'USA', 'Canada', 'Bangladesh', 'Sri Lanka', 'Scotland', 'Germany', 'Japan']\n",
      "['UK', 'USA', 'Canada', 'Bangladesh', 'Sri Lanka'] ['Scotland', 'Germany', 'Japan']\n"
     ]
    }
   ],
   "source": [
    "print(countries_1 + countries_2)\n",
    "print(countries_1, countries_2)"
   ]
  },
  {
   "cell_type": "code",
   "execution_count": 43,
   "id": "858ecc43-baa0-4951-bc19-e073f00a9982",
   "metadata": {},
   "outputs": [],
   "source": [
    "countries_1.append('Hongkong')\n",
    "countries_2.insert(0, 'Singapore')"
   ]
  },
  {
   "cell_type": "code",
   "execution_count": 44,
   "id": "5f5cb2a5-e8ef-43c8-9c5b-7f6c0d3a229e",
   "metadata": {},
   "outputs": [
    {
     "name": "stdout",
     "output_type": "stream",
     "text": [
      "['UK', 'USA', 'Canada', 'Bangladesh', 'Sri Lanka', 'Hongkong', 'Hongkong'] ['Singapore', 'Scotland', 'Germany', 'Japan']\n"
     ]
    }
   ],
   "source": [
    "print(countries_1, countries_2)"
   ]
  },
  {
   "cell_type": "markdown",
   "id": "60d79204-a496-44f1-b793-9b8135b2f1da",
   "metadata": {},
   "source": [
    "### Removing element/s from a list"
   ]
  },
  {
   "cell_type": "code",
   "execution_count": 45,
   "id": "aad5fa78-01bc-44ac-9e9f-6d30ffd03a16",
   "metadata": {},
   "outputs": [
    {
     "name": "stdout",
     "output_type": "stream",
     "text": [
      "['UK', 'USA', 'Canada', 'Bangladesh', 'Sri Lanka', 'Hongkong', 'Hongkong']\n"
     ]
    }
   ],
   "source": [
    "print(countries_1)"
   ]
  },
  {
   "cell_type": "code",
   "execution_count": 77,
   "id": "3f5bf517-4d12-4c44-ae9b-4e703ce2974f",
   "metadata": {},
   "outputs": [
    {
     "name": "stdout",
     "output_type": "stream",
     "text": [
      "['UK', 'Canada', 'USA', 'Bangladesh', 'Sri Lanka']\n",
      "['Singapore', 'UK', 'Canada', 'USA', 'Bangladesh', 'Sri Lanka', 'Canada']\n",
      "Removing first index element from array:  None\n",
      "Removing Canada:  None\n",
      "['UK', 'USA', 'Bangladesh', 'Sri Lanka', 'Canada']\n",
      "Appending Canada:  ['UK', 'USA', 'Bangladesh', 'Sri Lanka', 'Canada', 'Canada']\n",
      "countries_1.pop(4):  Canada\n",
      "Popping Canada:  ['UK', 'USA', 'Bangladesh', 'Sri Lanka', 'Canada']\n",
      "['UK', 'Bangladesh', 'Sri Lanka', 'Canada']\n"
     ]
    }
   ],
   "source": [
    "countries_1 = ['UK', 'Canada', 'USA', 'Bangladesh', 'Sri Lanka']\n",
    "print(countries_1)\n",
    "countries_1.append('Canada')\n",
    "countries_1.insert(0, 'Singapore')\n",
    "print(countries_1)\n",
    "print(\"Removing first index element from array: \", countries_1.remove(countries_1[0]))\n",
    "print(\"Removing Canada: \", countries_1.remove('Canada'))\n",
    "print(countries_1)\n",
    "countries_1.append('Canada')\n",
    "print(\"Appending Canada: \", countries_1)\n",
    "print(\"countries_1.pop(4): \", countries_1.pop(4))\n",
    "print(\"Popping Canada: \", countries_1)\n",
    "del countries_1[1]\n",
    "print(countries_1)"
   ]
  },
  {
   "cell_type": "markdown",
   "id": "01c036ac-9ec0-4b00-9ff7-32f66c3685c5",
   "metadata": {},
   "source": [
    "### Sorting a list"
   ]
  },
  {
   "cell_type": "code",
   "execution_count": 82,
   "id": "f0575ec2-32ad-4e4c-b079-607a69b6de85",
   "metadata": {},
   "outputs": [
    {
     "name": "stdout",
     "output_type": "stream",
     "text": [
      "[5, 55, 1, 2, 0, 99, 9999, 1234, 0, 10, 56]\n",
      "[0, 0, 1, 2, 5, 10, 55, 56, 99, 1234, 9999]\n",
      "[9999, 1234, 99, 56, 55, 10, 5, 2, 1, 0, 0]\n"
     ]
    }
   ],
   "source": [
    "numbers = [5,55,1,2,0,99,9999,1234,0,10,56]\n",
    "print(numbers)\n",
    "numbers.sort()\n",
    "print(numbers)\n",
    "numbers.sort(reverse=True)\n",
    "print(numbers)"
   ]
  },
  {
   "cell_type": "markdown",
   "id": "73ba07e1-bd1d-4afc-8ec2-3ce36662b381",
   "metadata": {},
   "source": [
    "### Update an Element"
   ]
  },
  {
   "cell_type": "code",
   "execution_count": 85,
   "id": "3d206116-3e01-4474-a613-57ee3171ccfb",
   "metadata": {},
   "outputs": [
    {
     "name": "stdout",
     "output_type": "stream",
     "text": [
      "[11, 0, 1, 2, 5, 10, 10, 55, 56, 99, 1234]\n"
     ]
    }
   ],
   "source": [
    "numbers[0] = 11\n",
    "print(numbers)"
   ]
  },
  {
   "cell_type": "code",
   "execution_count": 86,
   "id": "440b223c-7016-44b0-adb7-64e4abeea162",
   "metadata": {},
   "outputs": [
    {
     "name": "stdout",
     "output_type": "stream",
     "text": [
      "[0, 1, 2, 5, 10, 10, 11, 55, 56, 99, 1234]\n"
     ]
    }
   ],
   "source": [
    "numbers.sort()\n",
    "print(numbers)"
   ]
  },
  {
   "cell_type": "markdown",
   "id": "be348d67-a058-4744-b415-aa2abfbfd3cb",
   "metadata": {},
   "source": [
    "### Copying a list"
   ]
  },
  {
   "cell_type": "code",
   "execution_count": 87,
   "id": "edf29a01-5bb4-4dbc-91de-f7bab2207175",
   "metadata": {},
   "outputs": [
    {
     "data": {
      "text/plain": [
       "['UK', 'Bangladesh', 'Sri Lanka', 'Canada']"
      ]
     },
     "execution_count": 87,
     "metadata": {},
     "output_type": "execute_result"
    }
   ],
   "source": [
    "countries_1[:]"
   ]
  },
  {
   "cell_type": "code",
   "execution_count": 88,
   "id": "ac7c3353-73be-455e-8021-69113e140bc6",
   "metadata": {},
   "outputs": [
    {
     "data": {
      "text/plain": [
       "['UK', 'Bangladesh', 'Sri Lanka', 'Canada']"
      ]
     },
     "execution_count": 88,
     "metadata": {},
     "output_type": "execute_result"
    }
   ],
   "source": [
    "countries_1"
   ]
  },
  {
   "cell_type": "code",
   "execution_count": 89,
   "id": "f0287aeb-1a79-43e2-b2a3-3a8b5bd2ce6a",
   "metadata": {},
   "outputs": [
    {
     "data": {
      "text/plain": [
       "['UK', 'Bangladesh', 'Sri Lanka', 'Canada']"
      ]
     },
     "execution_count": 89,
     "metadata": {},
     "output_type": "execute_result"
    }
   ],
   "source": [
    "new_list = countries_1\n",
    "new_list"
   ]
  },
  {
   "cell_type": "code",
   "execution_count": 90,
   "id": "194bc651-fbb0-44e7-83ae-7f9e839e86a1",
   "metadata": {},
   "outputs": [
    {
     "data": {
      "text/plain": [
       "['UK', 'Bangladesh', 'Sri Lanka', 'Canada']"
      ]
     },
     "execution_count": 90,
     "metadata": {},
     "output_type": "execute_result"
    }
   ],
   "source": [
    "new_list_2 = new_list.copy()\n",
    "new_list_2"
   ]
  },
  {
   "cell_type": "code",
   "execution_count": null,
   "id": "3b849f14-aca1-4dc4-be32-118e3b1cc56e",
   "metadata": {},
   "outputs": [],
   "source": []
  }
 ],
 "metadata": {
  "kernelspec": {
   "display_name": "Python [conda env:base] *",
   "language": "python",
   "name": "conda-base-py"
  },
  "language_info": {
   "codemirror_mode": {
    "name": "ipython",
    "version": 3
   },
   "file_extension": ".py",
   "mimetype": "text/x-python",
   "name": "python",
   "nbconvert_exporter": "python",
   "pygments_lexer": "ipython3",
   "version": "3.13.5"
  }
 },
 "nbformat": 4,
 "nbformat_minor": 5
}
