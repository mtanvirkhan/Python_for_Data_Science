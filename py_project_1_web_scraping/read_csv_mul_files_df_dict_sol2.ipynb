{
 "cells": [
  {
   "cell_type": "code",
   "execution_count": 23,
   "id": "ee710be4",
   "metadata": {},
   "outputs": [],
   "source": [
    "import pandas as pd"
   ]
  },
  {
   "cell_type": "code",
   "execution_count": 24,
   "id": "deb5b982",
   "metadata": {},
   "outputs": [],
   "source": [
    "# declare the league data\n",
    "leagues = ['E0', 'E1', 'E2', 'E3', 'EC']"
   ]
  },
  {
   "cell_type": "code",
   "execution_count": 25,
   "id": "ad72b3c9",
   "metadata": {},
   "outputs": [
    {
     "data": {
      "text/plain": [
       "['1516',\n",
       " '1617',\n",
       " '1718',\n",
       " '1819',\n",
       " '1920',\n",
       " '2021',\n",
       " '2122',\n",
       " '2223',\n",
       " '2324',\n",
       " '2425']"
      ]
     },
     "execution_count": 25,
     "metadata": {},
     "output_type": "execute_result"
    }
   ],
   "source": [
    "# prepare the seasons data\n",
    "seasons = []\n",
    "for season in range(15, 25):\n",
    "    season = str(season) + str(season + 1)\n",
    "    seasons.append(season)\n",
    "seasons"
   ]
  },
  {
   "cell_type": "code",
   "execution_count": 26,
   "id": "508ae76f",
   "metadata": {},
   "outputs": [],
   "source": [
    "# Creating dictionary\n",
    "dict_league = {\n",
    "    'English Premier League': 'E0',\n",
    "    'Championship': 'E1',\n",
    "    'League 1': 'E2',\n",
    "    'League 2': 'E3',\n",
    "    'Conference': 'EC'\n",
    "}"
   ]
  },
  {
   "cell_type": "code",
   "execution_count": 27,
   "id": "d27e1ce7",
   "metadata": {},
   "outputs": [],
   "source": [
    "league_data = {}"
   ]
  },
  {
   "cell_type": "code",
   "execution_count": 28,
   "id": "5591a63f",
   "metadata": {},
   "outputs": [
    {
     "name": "stdout",
     "output_type": "stream",
     "text": [
      "Data loaded for English Premier League|season 1516\n",
      "Coloumn:380, Rows: 66\n",
      "Data loaded for English Premier League|season 1617\n",
      "Coloumn:380, Rows: 66\n",
      "Data loaded for English Premier League|season 1718\n",
      "Coloumn:380, Rows: 66\n",
      "Data loaded for English Premier League|season 1819\n",
      "Coloumn:380, Rows: 63\n",
      "Data loaded for English Premier League|season 1920\n",
      "Coloumn:380, Rows: 107\n",
      "Data loaded for English Premier League|season 2021\n",
      "Coloumn:380, Rows: 107\n",
      "Data loaded for English Premier League|season 2122\n",
      "Coloumn:380, Rows: 107\n",
      "Data loaded for English Premier League|season 2223\n",
      "Coloumn:380, Rows: 107\n",
      "Data loaded for English Premier League|season 2324\n",
      "Coloumn:380, Rows: 107\n",
      "Data loaded for English Premier League|season 2425\n",
      "Coloumn:380, Rows: 121\n",
      "Data loaded for Championship|season 1516\n",
      "Coloumn:552, Rows: 66\n",
      "Data loaded for Championship|season 1617\n",
      "Coloumn:552, Rows: 66\n",
      "Data loaded for Championship|season 1718\n",
      "Coloumn:552, Rows: 66\n",
      "Data loaded for Championship|season 1819\n",
      "Coloumn:552, Rows: 63\n",
      "Data loaded for Championship|season 1920\n",
      "Coloumn:552, Rows: 107\n",
      "Data loaded for Championship|season 2021\n",
      "Coloumn:552, Rows: 107\n",
      "Data loaded for Championship|season 2122\n",
      "Coloumn:552, Rows: 107\n",
      "Data loaded for Championship|season 2223\n",
      "Coloumn:552, Rows: 107\n",
      "Data loaded for Championship|season 2324\n",
      "Coloumn:552, Rows: 107\n",
      "Data loaded for Championship|season 2425\n",
      "Coloumn:552, Rows: 121\n",
      "Data loaded for League 1|season 1516\n",
      "Coloumn:553, Rows: 66\n",
      "Data loaded for League 1|season 1617\n",
      "Coloumn:552, Rows: 66\n",
      "Data loaded for League 1|season 1718\n",
      "Coloumn:552, Rows: 66\n",
      "Data loaded for League 1|season 1819\n",
      "Coloumn:552, Rows: 63\n",
      "Data loaded for League 1|season 1920\n",
      "Coloumn:400, Rows: 107\n",
      "Data loaded for League 1|season 2021\n",
      "Coloumn:552, Rows: 107\n",
      "Data loaded for League 1|season 2122\n",
      "Coloumn:552, Rows: 107\n",
      "Data loaded for League 1|season 2223\n",
      "Coloumn:552, Rows: 107\n",
      "Data loaded for League 1|season 2324\n",
      "Coloumn:552, Rows: 107\n",
      "Data loaded for League 1|season 2425\n",
      "Coloumn:552, Rows: 121\n",
      "Data loaded for League 2|season 1516\n",
      "Coloumn:553, Rows: 66\n",
      "Data loaded for League 2|season 1617\n",
      "Coloumn:552, Rows: 66\n",
      "Data loaded for League 2|season 1718\n",
      "Coloumn:552, Rows: 66\n",
      "Data loaded for League 2|season 1819\n",
      "Coloumn:552, Rows: 63\n",
      "Data loaded for League 2|season 1920\n",
      "Coloumn:440, Rows: 107\n",
      "Data loaded for League 2|season 2021\n",
      "Coloumn:552, Rows: 107\n",
      "Data loaded for League 2|season 2122\n",
      "Coloumn:552, Rows: 107\n",
      "Data loaded for League 2|season 2223\n",
      "Coloumn:552, Rows: 107\n",
      "Data loaded for League 2|season 2324\n",
      "Coloumn:552, Rows: 107\n",
      "Data loaded for League 2|season 2425\n",
      "Coloumn:552, Rows: 121\n",
      "Data loaded for Conference|season 1516\n",
      "Coloumn:552, Rows: 66\n",
      "Data loaded for Conference|season 1617\n",
      "Coloumn:552, Rows: 58\n",
      "Data loaded for Conference|season 1718\n",
      "Coloumn:552, Rows: 58\n",
      "Data loaded for Conference|season 1819\n",
      "Coloumn:552, Rows: 55\n",
      "Data loaded for Conference|season 1920\n",
      "Coloumn:451, Rows: 99\n",
      "Data loaded for Conference|season 2021\n",
      "Coloumn:477, Rows: 99\n",
      "Data loaded for Conference|season 2122\n",
      "Coloumn:506, Rows: 99\n",
      "Data loaded for Conference|season 2223\n",
      "Coloumn:552, Rows: 99\n",
      "Data loaded for Conference|season 2324\n",
      "Coloumn:552, Rows: 99\n",
      "Data loaded for Conference|season 2425\n",
      "Coloumn:552, Rows: 113\n"
     ]
    }
   ],
   "source": [
    "for league in dict_league:\n",
    "    dataframes = []  # List to store DataFrames\n",
    "    for season in seasons:\n",
    "        try:\n",
    "            # Construct file path\n",
    "            file_path = f'./league_data/{season}{dict_league[league]}.csv' \n",
    "            # Read CSV data\n",
    "            df = pd.read_csv(file_path, encoding='latin1')\n",
    "            # Insert a 'season' column\n",
    "            df.insert(1, 'season', season)\n",
    "            # Append DataFrame to the list\n",
    "            dataframes.append(df)\n",
    "            print(f\"Data loaded for {league}|season {season}\")\n",
    "            print(f'Coloumn:{df.shape[0]}, Rows: {df.shape[1]}')  # Print shape of the DataFrame\n",
    "        except FileNotFoundError as e:\n",
    "            print(e)  # Print error if file is not found\n",
    "            continue\n",
    "    if(dataframes):\n",
    "        league_data[league] = pd.concat(dataframes, ignore_index=True)"
   ]
  },
  {
   "cell_type": "code",
   "execution_count": 29,
   "id": "838c9f80",
   "metadata": {},
   "outputs": [
    {
     "name": "stdout",
     "output_type": "stream",
     "text": [
      "      Div season        Date       HomeTeam     AwayTeam  FTHG  FTAG FTR  \\\n",
      "0      E0   1516  08/08/2015    Bournemouth  Aston Villa     0     1   A   \n",
      "1      E0   1516  08/08/2015        Chelsea      Swansea     2     2   D   \n",
      "2      E0   1516  08/08/2015        Everton      Watford     2     2   D   \n",
      "3      E0   1516  08/08/2015      Leicester   Sunderland     4     2   H   \n",
      "4      E0   1516  08/08/2015     Man United    Tottenham     1     0   H   \n",
      "...   ...    ...         ...            ...          ...   ...   ...  ..   \n",
      "3795  NaN   2425  25/05/2025      Newcastle      Everton     0     1   A   \n",
      "3796  NaN   2425  25/05/2025  Nott'm Forest      Chelsea     0     1   A   \n",
      "3797  NaN   2425  25/05/2025    Southampton      Arsenal     1     2   A   \n",
      "3798  NaN   2425  25/05/2025      Tottenham     Brighton     1     4   A   \n",
      "3799  NaN   2425  25/05/2025         Wolves    Brentford     1     1   D   \n",
      "\n",
      "      HTHG  HTAG  ...  1XBCH 1XBCD  1XBCA  BFECH  BFECD  BFECA  BFEC>2.5  \\\n",
      "0        0     0  ...    NaN   NaN    NaN    NaN    NaN    NaN       NaN   \n",
      "1        2     1  ...    NaN   NaN    NaN    NaN    NaN    NaN       NaN   \n",
      "2        0     1  ...    NaN   NaN    NaN    NaN    NaN    NaN       NaN   \n",
      "3        3     0  ...    NaN   NaN    NaN    NaN    NaN    NaN       NaN   \n",
      "4        1     0  ...    NaN   NaN    NaN    NaN    NaN    NaN       NaN   \n",
      "...    ...   ...  ...    ...   ...    ...    ...    ...    ...       ...   \n",
      "3795     0     0  ...   1.30  6.11  10.20   1.27    7.0  13.00      1.50   \n",
      "3796     0     0  ...   3.50  3.86   2.06   3.55    3.9   2.14      1.76   \n",
      "3797     0     1  ...  12.20  6.11   1.28  13.00    6.8   1.28      1.45   \n",
      "3798     1     0  ...   3.63  4.12   1.95   3.95    4.2   1.93      1.51   \n",
      "3799     0     1  ...   2.98  3.80   2.31   3.05    3.8   2.42      1.54   \n",
      "\n",
      "      BFEC<2.5  BFECAHH  BFECAHA  \n",
      "0          NaN      NaN      NaN  \n",
      "1          NaN      NaN      NaN  \n",
      "2          NaN      NaN      NaN  \n",
      "3          NaN      NaN      NaN  \n",
      "4          NaN      NaN      NaN  \n",
      "...        ...      ...      ...  \n",
      "3795      2.94     1.93     2.05  \n",
      "3796      2.28     1.86     2.14  \n",
      "3797      3.15     2.06     1.89  \n",
      "3798      2.92     2.06     1.93  \n",
      "3799      2.78     1.89     2.10  \n",
      "\n",
      "[3800 rows x 155 columns]\n"
     ]
    }
   ],
   "source": [
    "# Display the dictionary with DataFrames\n",
    "print(league_data['English Premier League'])\n",
    "# print(league_data)"
   ]
  },
  {
   "cell_type": "code",
   "execution_count": null,
   "id": "4a8eeabe",
   "metadata": {},
   "outputs": [],
   "source": []
  }
 ],
 "metadata": {
  "kernelspec": {
   "display_name": "base",
   "language": "python",
   "name": "python3"
  },
  "language_info": {
   "codemirror_mode": {
    "name": "ipython",
    "version": 3
   },
   "file_extension": ".py",
   "mimetype": "text/x-python",
   "name": "python",
   "nbconvert_exporter": "python",
   "pygments_lexer": "ipython3",
   "version": "3.13.5"
  }
 },
 "nbformat": 4,
 "nbformat_minor": 5
}
