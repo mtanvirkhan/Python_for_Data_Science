{
 "cells": [
  {
   "cell_type": "markdown",
   "id": "6e5a2e63-bea5-420d-86f3-f8fbbce26b22",
   "metadata": {},
   "source": [
    "# Function"
   ]
  },
  {
   "cell_type": "code",
   "execution_count": 13,
   "id": "717a559e-df4c-4a3f-869f-fc18f88e66a4",
   "metadata": {},
   "outputs": [
    {
     "name": "stdout",
     "output_type": "stream",
     "text": [
      "11\n",
      "7\n",
      "\n",
      "\n",
      "['abc', 2, 3, 4, 1]\n",
      "{'first_name': 'Tanvir', 'last_name': 'Khan'}\n",
      "\n",
      "\n",
      "['abc', 2, 3, 4, 1]\n",
      "dict_keys(['first_name', 'last_name'])\n",
      "\n",
      "\n",
      "['abc', 2, 3, 4, 1]\n",
      "dict_values(['Tanvir', 'Khan'])\n"
     ]
    }
   ],
   "source": [
    "def summation(a, b):\n",
    "    return a + b\n",
    "\n",
    "result = summation(5, 6)\n",
    "print(result)\n",
    "\n",
    "def summation1(a, b):\n",
    "    print(a + b)\n",
    "summation1(3, 4)\n",
    "\n",
    "def display_info(list, dict):\n",
    "    print('\\n')\n",
    "    print(f'{list}')\n",
    "    print(f'{dict}')\n",
    "\n",
    "list = ['abc', 2, 3, 4, 1]\n",
    "dict = {\n",
    "    'first_name': 'Tanvir',\n",
    "    'last_name': 'Khan'\n",
    "}\n",
    "display_info(list,dict)\n",
    "display_info(list,dict.keys())\n",
    "display_info(list,dict.values())"
   ]
  },
  {
   "cell_type": "markdown",
   "id": "10f950c0-0b85-4dc6-a15e-97b2897d6c54",
   "metadata": {},
   "source": [
    "## Built-in Function"
   ]
  },
  {
   "cell_type": "code",
   "execution_count": 22,
   "id": "b24cc49d-2d66-47a9-b202-5f8b4d509e29",
   "metadata": {},
   "outputs": [
    {
     "name": "stdout",
     "output_type": "stream",
     "text": [
      "7\n",
      "1934\n",
      "-78\n",
      "<class 'list'>\n",
      "[-78, 0, 0, 1, 34, 45, 99, 100, 123, 1934]\n",
      "[1934, 123, 100, 99, 45, 34, 1, 0, 0, -78]\n"
     ]
    }
   ],
   "source": [
    "countries = ['Japan', 'Finland', 'UK', 'USA', 'Singapore', 'Malaysia', 'Indonesia']\n",
    "print(len(countries))\n",
    "values = [99, 123, 34, 45, 100, 1, 0, -78, -0, 1934]\n",
    "print(max(values))\n",
    "print(min(values))\n",
    "print(type(values))\n",
    "values.sort()\n",
    "print(values)\n",
    "values.sort(reverse=True)\n",
    "print(values)"
   ]
  },
  {
   "cell_type": "code",
   "execution_count": 23,
   "id": "a6395c76-8f60-4557-9850-65c9b792c323",
   "metadata": {},
   "outputs": [
    {
     "name": "stdout",
     "output_type": "stream",
     "text": [
      "1\n",
      "3\n",
      "5\n",
      "7\n",
      "9\n"
     ]
    }
   ],
   "source": [
    "for i in range(1, 10, 2):\n",
    "    print(i)"
   ]
  },
  {
   "cell_type": "code",
   "execution_count": null,
   "id": "f951ac85-4769-486a-849e-5628d72fb433",
   "metadata": {},
   "outputs": [],
   "source": []
  },
  {
   "cell_type": "code",
   "execution_count": null,
   "id": "a1b4d189-3973-48c9-b52e-84f8730e739b",
   "metadata": {},
   "outputs": [],
   "source": []
  },
  {
   "cell_type": "code",
   "execution_count": null,
   "id": "b63ad82b-70cd-44fb-9df2-9010b0645f59",
   "metadata": {},
   "outputs": [],
   "source": []
  },
  {
   "cell_type": "code",
   "execution_count": null,
   "id": "8b4fe545-a1a9-4f00-925e-21a37614ab05",
   "metadata": {},
   "outputs": [],
   "source": []
  }
 ],
 "metadata": {
  "kernelspec": {
   "display_name": "Python 3 (ipykernel)",
   "language": "python",
   "name": "python3"
  },
  "language_info": {
   "codemirror_mode": {
    "name": "ipython",
    "version": 3
   },
   "file_extension": ".py",
   "mimetype": "text/x-python",
   "name": "python",
   "nbconvert_exporter": "python",
   "pygments_lexer": "ipython3",
   "version": "3.13.5"
  }
 },
 "nbformat": 4,
 "nbformat_minor": 5
}
