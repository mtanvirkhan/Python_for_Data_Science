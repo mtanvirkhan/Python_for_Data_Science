{
 "cells": [
  {
   "cell_type": "code",
   "execution_count": 3,
   "id": "f14978c5",
   "metadata": {},
   "outputs": [
    {
     "name": "stdout",
     "output_type": "stream",
     "text": [
      "         Date  Sales\n",
      "0  2023-01-01    200\n",
      "1  2023-01-02    240\n",
      "2  2023-01-03    310\n"
     ]
    },
    {
     "data": {
      "text/html": [
       "<div>\n",
       "<style scoped>\n",
       "    .dataframe tbody tr th:only-of-type {\n",
       "        vertical-align: middle;\n",
       "    }\n",
       "\n",
       "    .dataframe tbody tr th {\n",
       "        vertical-align: top;\n",
       "    }\n",
       "\n",
       "    .dataframe thead th {\n",
       "        text-align: right;\n",
       "    }\n",
       "</style>\n",
       "<table border=\"1\" class=\"dataframe\">\n",
       "  <thead>\n",
       "    <tr style=\"text-align: right;\">\n",
       "      <th></th>\n",
       "      <th>Date</th>\n",
       "      <th>Sales</th>\n",
       "    </tr>\n",
       "  </thead>\n",
       "  <tbody>\n",
       "    <tr>\n",
       "      <th>0</th>\n",
       "      <td>2023-02-01</td>\n",
       "      <td>180</td>\n",
       "    </tr>\n",
       "    <tr>\n",
       "      <th>1</th>\n",
       "      <td>2023-02-02</td>\n",
       "      <td>250</td>\n",
       "    </tr>\n",
       "    <tr>\n",
       "      <th>2</th>\n",
       "      <td>2023-02-03</td>\n",
       "      <td>290</td>\n",
       "    </tr>\n",
       "  </tbody>\n",
       "</table>\n",
       "</div>"
      ],
      "text/plain": [
       "         Date  Sales\n",
       "0  2023-02-01    180\n",
       "1  2023-02-02    250\n",
       "2  2023-02-03    290"
      ]
     },
     "execution_count": 3,
     "metadata": {},
     "output_type": "execute_result"
    }
   ],
   "source": [
    "import pandas as pd\n",
    "\n",
    "# Creating sample data for January\n",
    "data_jan = {\n",
    "    'Date': ['2023-01-01', '2023-01-02', '2023-01-03'],\n",
    "    'Sales': [200, 240, 310]\n",
    "}\n",
    "jan_df = pd.DataFrame(data_jan)\n",
    "print(jan_df)\n",
    "\n",
    "# Creating sample data for February\n",
    "data_feb = {\n",
    "    'Date': ['2023-02-01', '2023-02-02', '2023-02-03'],\n",
    "    'Sales': [180, 250, 290]\n",
    "}\n",
    "feb_df = pd.DataFrame(data_feb)\n",
    "feb_df"
   ]
  },
  {
   "cell_type": "code",
   "execution_count": null,
   "id": "98e984d9",
   "metadata": {},
   "outputs": [
    {
     "name": "stdout",
     "output_type": "stream",
     "text": [
      "         Date  Sales\n",
      "0  2023-01-01    200\n",
      "1  2023-01-02    240\n",
      "2  2023-01-03    310\n",
      "0  2023-02-01    180\n",
      "1  2023-02-02    250\n",
      "2  2023-02-03    290\n"
     ]
    }
   ],
   "source": [
    "combined_df = pd.concat([jan_df, feb_df], ignore_index=False)\n",
    "print(combined_df)\n",
    "# ignore_index=True: This parameter is set to ensure that the resulting DataFrame has a continuous index. Otherwise, \n",
    "# both DataFrames would start their indices from 0, potentially causing issues if index-based operations are performed later."
   ]
  },
  {
   "cell_type": "code",
   "execution_count": 7,
   "id": "e6d9d93c",
   "metadata": {},
   "outputs": [
    {
     "name": "stdout",
     "output_type": "stream",
     "text": [
      "         Date  Sales        Date  Sales\n",
      "0  2023-01-01    200  2023-02-01    180\n",
      "1  2023-01-02    240  2023-02-02    250\n",
      "2  2023-01-03    310  2023-02-03    290\n"
     ]
    }
   ],
   "source": [
    "combined_horizontal_df = pd.concat([jan_df, feb_df], axis=1)\n",
    "print(combined_horizontal_df)"
   ]
  }
 ],
 "metadata": {
  "kernelspec": {
   "display_name": "base",
   "language": "python",
   "name": "python3"
  },
  "language_info": {
   "codemirror_mode": {
    "name": "ipython",
    "version": 3
   },
   "file_extension": ".py",
   "mimetype": "text/x-python",
   "name": "python",
   "nbconvert_exporter": "python",
   "pygments_lexer": "ipython3",
   "version": "3.13.5"
  }
 },
 "nbformat": 4,
 "nbformat_minor": 5
}
