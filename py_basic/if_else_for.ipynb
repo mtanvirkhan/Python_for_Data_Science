{
 "cells": [
  {
   "cell_type": "markdown",
   "id": "dc615a2a-5f76-45aa-8eee-4e63f03a4d1e",
   "metadata": {},
   "source": [
    "# If Statement for loop"
   ]
  },
  {
   "cell_type": "code",
   "execution_count": 1,
   "id": "66fa6985-3776-466e-ab62-dae5b97aef8a",
   "metadata": {},
   "outputs": [
    {
     "name": "stdout",
     "output_type": "stream",
     "text": [
      "Tanvir\n",
      "Khan\n",
      "Wafia\n",
      "Waziha\n",
      "Adiyat\n"
     ]
    }
   ],
   "source": [
    "list = ['Tanvir', 'Khan', 'Wafia', 'Waziha', 'Adiyat']\n",
    "for item in list:\n",
    "    print(item)"
   ]
  },
  {
   "cell_type": "code",
   "execution_count": 5,
   "id": "76177bd9-6222-42ff-bd76-7e80ac3b73bb",
   "metadata": {},
   "outputs": [
    {
     "name": "stdout",
     "output_type": "stream",
     "text": [
      "Not Wafia\n",
      "Not Wafia\n",
      "Wafia\n",
      "Not Wafia\n",
      "Not Wafia\n"
     ]
    }
   ],
   "source": [
    "list = ['Tanvir', 'Khan', 'Wafia', 'Waziha', 'Adiyat']\n",
    "for item in list:\n",
    "    if(item == 'Wafia'):\n",
    "        print(item)\n",
    "    else:\n",
    "        print('Not Wafia')"
   ]
  },
  {
   "cell_type": "code",
   "execution_count": 12,
   "id": "d51d59ee-7677-42cb-9a7b-6eba7908cadf",
   "metadata": {},
   "outputs": [
    {
     "name": "stdout",
     "output_type": "stream",
     "text": [
      "you are adult\n"
     ]
    }
   ],
   "source": [
    "age = 19\n",
    "if (age <= 18 and age >= 13):\n",
    "    print('You are teen')\n",
    "elif (age < 13):\n",
    "    print('you are kid')\n",
    "else:\n",
    "    print('you are adult')"
   ]
  },
  {
   "cell_type": "code",
   "execution_count": null,
   "id": "492ab7e4-6565-4d96-9ece-eedbec952564",
   "metadata": {},
   "outputs": [],
   "source": []
  },
  {
   "cell_type": "code",
   "execution_count": null,
   "id": "872b61eb-d681-4a16-8f7c-ebebf15c3779",
   "metadata": {},
   "outputs": [],
   "source": []
  },
  {
   "cell_type": "code",
   "execution_count": null,
   "id": "84e1b7b0-f003-4778-a7de-719bd0babf13",
   "metadata": {},
   "outputs": [],
   "source": []
  },
  {
   "cell_type": "code",
   "execution_count": null,
   "id": "a6e6def7-d233-4fa3-9996-745fe4b2398f",
   "metadata": {},
   "outputs": [],
   "source": []
  },
  {
   "cell_type": "code",
   "execution_count": null,
   "id": "d0bec0d7-7f9d-4955-8b26-30dea37bdaeb",
   "metadata": {},
   "outputs": [],
   "source": []
  }
 ],
 "metadata": {
  "kernelspec": {
   "display_name": "Python 3 (ipykernel)",
   "language": "python",
   "name": "python3"
  },
  "language_info": {
   "codemirror_mode": {
    "name": "ipython",
    "version": 3
   },
   "file_extension": ".py",
   "mimetype": "text/x-python",
   "name": "python",
   "nbconvert_exporter": "python",
   "pygments_lexer": "ipython3",
   "version": "3.13.5"
  }
 },
 "nbformat": 4,
 "nbformat_minor": 5
}
