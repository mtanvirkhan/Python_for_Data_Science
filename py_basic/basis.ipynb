{
 "cells": [
  {
   "cell_type": "code",
   "execution_count": 1,
   "id": "1eb2bc9a-4359-423c-962e-ed592ae8d353",
   "metadata": {},
   "outputs": [
    {
     "name": "stdout",
     "output_type": "stream",
     "text": [
      "Hello world\n"
     ]
    }
   ],
   "source": [
    "print('Hello world')"
   ]
  },
  {
   "cell_type": "code",
   "execution_count": 3,
   "id": "7fcb212f-8ee4-46a9-bc8a-174781e6ac1e",
   "metadata": {},
   "outputs": [
    {
     "data": {
      "text/plain": [
       "'Hello world'"
      ]
     },
     "execution_count": 3,
     "metadata": {},
     "output_type": "execute_result"
    }
   ],
   "source": [
    "'Hello world'"
   ]
  },
  {
   "cell_type": "code",
   "execution_count": 4,
   "id": "6f64a5c4-3b8b-48b2-9f20-fc562989b135",
   "metadata": {},
   "outputs": [
    {
     "data": {
      "text/plain": [
       "'Hello world'"
      ]
     },
     "execution_count": 4,
     "metadata": {},
     "output_type": "execute_result"
    }
   ],
   "source": [
    "\"Hello world\""
   ]
  },
  {
   "cell_type": "markdown",
   "id": "136f6e7b-00a5-43b1-a32a-48fe00a510d9",
   "metadata": {},
   "source": [
    "# It is my name and this one is markdown\n",
    "print(\"Tanvir\")"
   ]
  },
  {
   "cell_type": "code",
   "execution_count": 9,
   "id": "c761ddf7-072c-4b23-93f4-df2086db8313",
   "metadata": {},
   "outputs": [
    {
     "name": "stdout",
     "output_type": "stream",
     "text": [
      "Tanvir\n"
     ]
    }
   ],
   "source": [
    "# It is my name and this one is code\n",
    "print(\"Tanvir\")"
   ]
  },
  {
   "cell_type": "code",
   "execution_count": 7,
   "id": "9078940b-507c-4227-a63f-9c9e6d3c27b3",
   "metadata": {},
   "outputs": [
    {
     "data": {
      "text/plain": [
       "'Tanvir'"
      ]
     },
     "execution_count": 7,
     "metadata": {},
     "output_type": "execute_result"
    }
   ],
   "source": [
    "\"Tanvir\""
   ]
  },
  {
   "cell_type": "code",
   "execution_count": 10,
   "id": "4d8f2f5c-098c-4c2a-8078-be6b4b64471d",
   "metadata": {},
   "outputs": [
    {
     "data": {
      "text/plain": [
       "3"
      ]
     },
     "execution_count": 10,
     "metadata": {},
     "output_type": "execute_result"
    }
   ],
   "source": [
    "1+2"
   ]
  },
  {
   "cell_type": "code",
   "execution_count": 19,
   "id": "31f6ab27-ec25-4aac-a5a0-658fd408146f",
   "metadata": {},
   "outputs": [
    {
     "name": "stdout",
     "output_type": "stream",
     "text": [
      "Upper ->  HELLO WORLD\n",
      "Lower ->  hello world\n",
      "Title ->  Hello World\n"
     ]
    }
   ],
   "source": [
    "# print method\n",
    "print(\"Upper -> \",\"Hello World\".upper())\n",
    "print(\"Lower -> \",\"Hello World\".lower())\n",
    "print(\"Title -> \",\"Hello World\".title())"
   ]
  },
  {
   "cell_type": "code",
   "execution_count": 20,
   "id": "95c2cee7-6ca4-4e5a-a433-ab335d573161",
   "metadata": {},
   "outputs": [
    {
     "data": {
      "text/plain": [
       "'Hello World'"
      ]
     },
     "execution_count": 20,
     "metadata": {},
     "output_type": "execute_result"
    }
   ],
   "source": [
    "# The last statement will execute and replace other statements \n",
    "\"Hello World\".upper()\n",
    "\"Hello World\".lower()\n",
    "\"Hello World\".title()"
   ]
  },
  {
   "cell_type": "code",
   "execution_count": 16,
   "id": "d154fb74-f060-47a6-a2b3-bcf9e2df46b7",
   "metadata": {},
   "outputs": [
    {
     "name": "stdout",
     "output_type": "stream",
     "text": [
      "1\n",
      "2\n",
      "3\n",
      "4\n"
     ]
    }
   ],
   "source": [
    "list = [1,2,3,4]\n",
    "for i in list:\n",
    "    print(i)"
   ]
  },
  {
   "cell_type": "code",
   "execution_count": 18,
   "id": "ebf471ce-792b-48bb-8546-091bf31ce467",
   "metadata": {},
   "outputs": [],
   "source": [
    "list = [1,2,3,4]\n",
    "for i in list:\n",
    "    i"
   ]
  },
  {
   "cell_type": "code",
   "execution_count": 24,
   "id": "2c7b5739-da87-4aff-8058-48b8e7d1bb1d",
   "metadata": {},
   "outputs": [
    {
     "data": {
      "text/plain": [
       "1"
      ]
     },
     "execution_count": 24,
     "metadata": {},
     "output_type": "execute_result"
    }
   ],
   "source": [
    "\"Hello world\".count(\"l\")\n",
    "\"Hello world\".count(\"e\")"
   ]
  },
  {
   "cell_type": "code",
   "execution_count": 29,
   "id": "1e54278c-bc92-43b9-bfa8-49e8a97d1b87",
   "metadata": {},
   "outputs": [
    {
     "name": "stdout",
     "output_type": "stream",
     "text": [
      "3\n",
      "1\n",
      "0\n"
     ]
    }
   ],
   "source": [
    "print(\"Hello world\".count(\"l\"))\n",
    "print(\"Hello world\".count(\"e\"))\n",
    "print(\"Hello world\".count(\"2\"))"
   ]
  },
  {
   "cell_type": "code",
   "execution_count": 33,
   "id": "d6c5d947-eb06-4fbd-b2dd-35e52a120113",
   "metadata": {},
   "outputs": [
    {
     "data": {
      "text/plain": [
       "'3ello world'"
      ]
     },
     "execution_count": 33,
     "metadata": {},
     "output_type": "execute_result"
    }
   ],
   "source": [
    "\"Hello world\".replace(\"o\",\"1\")\n",
    "\"Hello world\".replace(\"o\",\"2\")\n",
    "\"Hello world\".replace(\"H\",\"3\")"
   ]
  },
  {
   "cell_type": "code",
   "execution_count": 34,
   "id": "1e38098d-5b4d-402a-98ca-8f5966233f14",
   "metadata": {},
   "outputs": [
    {
     "name": "stdout",
     "output_type": "stream",
     "text": [
      "Hell1 w1rld\n",
      "Hell2 w2rld\n",
      "3ello world\n"
     ]
    }
   ],
   "source": [
    "print(\"Hello world\".replace(\"o\",\"1\"))\n",
    "print(\"Hello world\".replace(\"o\",\"2\"))\n",
    "print(\"Hello world\".replace(\"H\",\"3\"))"
   ]
  },
  {
   "cell_type": "code",
   "execution_count": null,
   "id": "c66bc62e-fc5a-4c90-bd91-5e10c5d6e8d6",
   "metadata": {},
   "outputs": [],
   "source": []
  }
 ],
 "metadata": {
  "kernelspec": {
   "display_name": "Python [conda env:base] *",
   "language": "python",
   "name": "conda-base-py"
  },
  "language_info": {
   "codemirror_mode": {
    "name": "ipython",
    "version": 3
   },
   "file_extension": ".py",
   "mimetype": "text/x-python",
   "name": "python",
   "nbconvert_exporter": "python",
   "pygments_lexer": "ipython3",
   "version": "3.13.5"
  }
 },
 "nbformat": 4,
 "nbformat_minor": 5
}
