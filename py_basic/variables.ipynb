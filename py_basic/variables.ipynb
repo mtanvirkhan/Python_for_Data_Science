{
 "cells": [
  {
   "cell_type": "markdown",
   "id": "46297de5-3daf-433d-a653-ee455274fe02",
   "metadata": {},
   "source": [
    "# Variables"
   ]
  },
  {
   "cell_type": "code",
   "execution_count": 1,
   "id": "d8a28973-0b0d-49de-8f04-ce3496c3433e",
   "metadata": {},
   "outputs": [],
   "source": [
    "msg1 = \"I'm learning python\"\n",
    "msg2 = \"and it's fun\""
   ]
  },
  {
   "cell_type": "code",
   "execution_count": 2,
   "id": "0de162b2-6b48-415f-ae14-6ddeb4d3f0e4",
   "metadata": {},
   "outputs": [
    {
     "data": {
      "text/plain": [
       "\"I'm learning python\""
      ]
     },
     "execution_count": 2,
     "metadata": {},
     "output_type": "execute_result"
    }
   ],
   "source": [
    "msg1"
   ]
  },
  {
   "cell_type": "code",
   "execution_count": 3,
   "id": "62dec57f-9769-4fb9-b511-f348aa9f8d86",
   "metadata": {},
   "outputs": [
    {
     "data": {
      "text/plain": [
       "\"I'm learning pythonand it's fun\""
      ]
     },
     "execution_count": 3,
     "metadata": {},
     "output_type": "execute_result"
    }
   ],
   "source": [
    "msg1 + msg2"
   ]
  },
  {
   "cell_type": "code",
   "execution_count": 4,
   "id": "76632ba7-b7e4-4224-b6eb-5c76902719c1",
   "metadata": {},
   "outputs": [
    {
     "data": {
      "text/plain": [
       "\"I'm learning python and it's fun\""
      ]
     },
     "execution_count": 4,
     "metadata": {},
     "output_type": "execute_result"
    }
   ],
   "source": [
    "msg1 + ' ' + msg2"
   ]
  },
  {
   "cell_type": "code",
   "execution_count": 5,
   "id": "36088ddf-44f8-4d3a-b87d-947c115f20c6",
   "metadata": {},
   "outputs": [
    {
     "data": {
      "text/plain": [
       "\"I'm learning python and it's fun\""
      ]
     },
     "execution_count": 5,
     "metadata": {},
     "output_type": "execute_result"
    }
   ],
   "source": [
    "f'{msg1} {msg2}'"
   ]
  },
  {
   "cell_type": "code",
   "execution_count": 8,
   "id": "06848ded-9349-4da6-8d29-cfb7f7545b72",
   "metadata": {},
   "outputs": [
    {
     "name": "stdout",
     "output_type": "stream",
     "text": [
      "I'm learning python and it's fun\n"
     ]
    }
   ],
   "source": [
    "print(msg1, msg2)"
   ]
  },
  {
   "cell_type": "markdown",
   "id": "a6a8b6dc-2df3-4d5f-8596-9394de1d3904",
   "metadata": {},
   "source": [
    "msg1, msg2"
   ]
  },
  {
   "cell_type": "code",
   "execution_count": 9,
   "id": "4a10a149-2fe3-4152-9234-03117d7cf069",
   "metadata": {},
   "outputs": [
    {
     "data": {
      "text/plain": [
       "\"I'm learning python\""
      ]
     },
     "execution_count": 9,
     "metadata": {},
     "output_type": "execute_result"
    }
   ],
   "source": [
    "msg1"
   ]
  },
  {
   "cell_type": "code",
   "execution_count": 10,
   "id": "08493f6c-5120-42da-a52c-aded8418b386",
   "metadata": {},
   "outputs": [
    {
     "data": {
      "text/plain": [
       "\"and it's fun\""
      ]
     },
     "execution_count": 10,
     "metadata": {},
     "output_type": "execute_result"
    }
   ],
   "source": [
    "msg2"
   ]
  },
  {
   "cell_type": "code",
   "execution_count": 13,
   "id": "0b1500fa-6e3e-416d-b112-bafbd0ac29c1",
   "metadata": {},
   "outputs": [
    {
     "data": {
      "text/plain": [
       "\"I'm learning python concatenate and it's fun\""
      ]
     },
     "execution_count": 13,
     "metadata": {},
     "output_type": "execute_result"
    }
   ],
   "source": [
    "f'{msg1} concatenate {msg2}'"
   ]
  },
  {
   "cell_type": "code",
   "execution_count": null,
   "id": "d50ac5ba-a521-4f59-91e9-bb83da8be60b",
   "metadata": {},
   "outputs": [],
   "source": []
  }
 ],
 "metadata": {
  "kernelspec": {
   "display_name": "Python [conda env:base] *",
   "language": "python",
   "name": "conda-base-py"
  },
  "language_info": {
   "codemirror_mode": {
    "name": "ipython",
    "version": 3
   },
   "file_extension": ".py",
   "mimetype": "text/x-python",
   "name": "python",
   "nbconvert_exporter": "python",
   "pygments_lexer": "ipython3",
   "version": "3.13.5"
  }
 },
 "nbformat": 4,
 "nbformat_minor": 5
}
