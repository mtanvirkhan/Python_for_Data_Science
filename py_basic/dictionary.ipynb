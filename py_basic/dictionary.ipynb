{
 "cells": [
  {
   "cell_type": "markdown",
   "id": "3ed994fd-f1eb-46a0-ba42-95f2a398f868",
   "metadata": {},
   "source": [
    "# Dictionary"
   ]
  },
  {
   "cell_type": "code",
   "execution_count": 1,
   "id": "716cd6e4-a6f0-45a2-965c-a18943e66cbf",
   "metadata": {},
   "outputs": [
    {
     "name": "stdout",
     "output_type": "stream",
     "text": [
      "{'key1': 'value1', 'key2': 'value2'}\n"
     ]
    }
   ],
   "source": [
    "my_dict = {\n",
    "    'key1': 'value1',\n",
    "    'key2': 'value2'\n",
    "}\n",
    "print(my_dict)"
   ]
  },
  {
   "cell_type": "code",
   "execution_count": 2,
   "id": "f0ddbbad-af3b-4367-85b0-d90cbc96deec",
   "metadata": {},
   "outputs": [
    {
     "name": "stdout",
     "output_type": "stream",
     "text": [
      "{'key1': 'value1', 'key2': 'value2', 'array': [1, 2, 3, 4]}\n"
     ]
    }
   ],
   "source": [
    "my_dict = {\n",
    "    'key1': 'value1',\n",
    "    'key2': 'value2',\n",
    "    'array': [1, 2, 3, 4]\n",
    "}\n",
    "print(my_dict)"
   ]
  },
  {
   "cell_type": "code",
   "execution_count": 3,
   "id": "cabacc13-a5b4-47db-8e1a-8f2ef2e28e76",
   "metadata": {},
   "outputs": [
    {
     "name": "stdout",
     "output_type": "stream",
     "text": [
      "{'key1': 'value1', 'key2': 'value2', 'array': [1, 2, {'array_key': 'array_value'}, 4]}\n"
     ]
    }
   ],
   "source": [
    "my_dict = {\n",
    "    'key1': 'value1',\n",
    "    'key2': 'value2',\n",
    "    'array': [1, 2, {\n",
    "        'array_key': 'array_value'\n",
    "    }, 4]\n",
    "}\n",
    "print(my_dict)"
   ]
  },
  {
   "cell_type": "code",
   "execution_count": 18,
   "id": "783ea582-9a2f-4e78-9974-af400a310305",
   "metadata": {},
   "outputs": [
    {
     "name": "stdout",
     "output_type": "stream",
     "text": [
      "{'key1': 'value1', 'key2': 'value2', 'array': [1, 2, {'array_key': 'array_value', 'array_key1': 'array_value1', 'array_key3': 'array_value3'}, 4, ['abc', 'a', 'b', 'c', 45]], 'key3': 'value3'}\n",
      "value1\n",
      "[1, 2, {'array_key': 'array_value', 'array_key1': 'array_value1', 'array_key3': 'array_value3'}, 4, ['abc', 'a', 'b', 'c', 45]]\n",
      "1\n",
      "{'array_key': 'array_value', 'array_key1': 'array_value1', 'array_key3': 'array_value3'}\n",
      "array_value1\n",
      "4\n",
      "['abc', 'a', 'b', 'c', 45]\n",
      "b\n",
      "value3\n"
     ]
    }
   ],
   "source": [
    "my_dict = {\n",
    "    'key1': 'value1',\n",
    "    'key2': 'value2',\n",
    "    'array': [1, 2, {\n",
    "        'array_key': 'array_value',\n",
    "        'array_key1': 'array_value1',\n",
    "        'array_key3': 'array_value3'\n",
    "    }, 4, ['abc', 'a', 'b', 'c', 45]],\n",
    "    'key3': 'value3'\n",
    "}\n",
    "print(my_dict)\n",
    "print(my_dict['key1'])\n",
    "print(my_dict['array'])\n",
    "print(my_dict['array'][0])\n",
    "print(my_dict['array'][2])\n",
    "print(my_dict['array'][2]['array_key1'])\n",
    "print(my_dict['array'][3])\n",
    "print(my_dict['array'][4])\n",
    "print(my_dict['array'][4][2])\n",
    "print(my_dict['key3'])"
   ]
  },
  {
   "cell_type": "code",
   "execution_count": 21,
   "id": "8f257770-1a0f-44e7-b60d-c6e1cbcbc11d",
   "metadata": {},
   "outputs": [
    {
     "name": "stdout",
     "output_type": "stream",
     "text": [
      "{'array': [1, 2, {'array_key': 'array_value', 'array_key1': 'array_value1', 'array_key3': 'array_value3'}, 4, ['abc', 'a', 'b', 'c', 45, {'array_key4': 'array_value4'}]]}\n",
      "{'array_key4': 'array_value4'}\n",
      "array_value4\n"
     ]
    }
   ],
   "source": [
    "my_dict = {\n",
    "    'array': [1, 2, {\n",
    "        'array_key': 'array_value',\n",
    "        'array_key1': 'array_value1',\n",
    "        'array_key3': 'array_value3'\n",
    "    }, 4, ['abc', 'a', 'b', 'c', 45, {\n",
    "        'array_key4': 'array_value4'\n",
    "    }]]\n",
    "}\n",
    "print(my_dict)\n",
    "print(my_dict['array'][4][5])\n",
    "print(my_dict['array'][4][5]['array_key4'])"
   ]
  },
  {
   "cell_type": "code",
   "execution_count": 22,
   "id": "a3167bdf-da27-4c7c-859c-8b0fa5e7415e",
   "metadata": {},
   "outputs": [
    {
     "name": "stdout",
     "output_type": "stream",
     "text": [
      "{'first_name': 'Tanvir', 'last_name': 'Khan', 'age': 42, 'address': [{'house no': 295, 'road': 'Elephant Road', 'thana': 'New Market', 'po': 1205, 'district': 'Dhaka', 'country': 'Bangladesh'}, {'village': 'Munshiganj', 'thana': 'Chardumuria', 'po': 3305, 'district': 'Munshiganj', 'country': 'Bangladesh'}], 'family': 'yes', 'habit': ['Reading', 'Music', 'Roaming', {'Riding1': 'MC', 'Riding2': 'C'}], 'profession': 'Software Engineer', 'kids': 'Wafia, Waziha, Adiyat', 'spouce': 'yes', 'spouce_name': 'Kazi Farhana Haque'} \n",
      "\n",
      "dict_keys(['first_name', 'last_name', 'age', 'address', 'family', 'habit', 'profession', 'kids', 'spouce', 'spouce_name']) \n",
      "\n",
      "dict_values(['Tanvir', 'Khan', 42, [{'house no': 295, 'road': 'Elephant Road', 'thana': 'New Market', 'po': 1205, 'district': 'Dhaka', 'country': 'Bangladesh'}, {'village': 'Munshiganj', 'thana': 'Chardumuria', 'po': 3305, 'district': 'Munshiganj', 'country': 'Bangladesh'}], 'yes', ['Reading', 'Music', 'Roaming', {'Riding1': 'MC', 'Riding2': 'C'}], 'Software Engineer', 'Wafia, Waziha, Adiyat', 'yes', 'Kazi Farhana Haque']) \n",
      "\n",
      "Tanvir Khan \n",
      "\n",
      "{'house no': 295, 'road': 'Elephant Road', 'thana': 'New Market', 'po': 1205, 'district': 'Dhaka', 'country': 'Bangladesh'} \n",
      "\n",
      "Dhaka \n",
      "\n",
      "Wafia, Waziha, Adiyat \n",
      "\n",
      "Kazi Farhana Haque \n",
      "\n",
      "dict_items([('first_name', 'Tanvir'), ('last_name', 'Khan'), ('age', 42), ('address', [{'house no': 295, 'road': 'Elephant Road', 'thana': 'New Market', 'po': 1205, 'district': 'Dhaka', 'country': 'Bangladesh'}, {'village': 'Munshiganj', 'thana': 'Chardumuria', 'po': 3305, 'district': 'Munshiganj', 'country': 'Bangladesh'}]), ('family', 'yes'), ('habit', ['Reading', 'Music', 'Roaming', {'Riding1': 'MC', 'Riding2': 'C'}]), ('profession', 'Software Engineer'), ('kids', 'Wafia, Waziha, Adiyat'), ('spouce', 'yes'), ('spouce_name', 'Kazi Farhana Haque')]) \n",
      "\n",
      "{'first_name': 'Tanvir', 'last_name': 'Khan', 'age': 42, 'address': [{'house no': 295, 'road': 'Elephant Road', 'thana': 'New Market', 'po': 1205, 'district': 'Dhaka', 'country': 'Bangladesh'}, {'village': 'Munshiganj', 'thana': 'Chardumuria', 'po': 3305, 'district': 'Munshiganj', 'country': 'Bangladesh'}], 'family': 'yes', 'habit': ['Reading', 'Music', 'Roaming', {'Riding1': 'MC', 'Riding2': 'C'}], 'profession': 'Software Engineer', 'kids': 'Wafia, Waziha, Adiyat', 'spouce': 'yes', 'spouce_name': 'Kazi Farhana Haque', 'Height': '5 feet 8 inch'} \n",
      "\n",
      "{'first_name': 'Tanvir', 'last_name': 'Khan', 'age': 40, 'address': [{'house no': 295, 'road': 'Elephant Road', 'thana': 'New Market', 'po': 1205, 'district': 'Dhaka', 'country': 'Bangladesh'}, {'village': 'Munshiganj', 'thana': 'Chardumuria', 'po': 3305, 'district': 'Munshiganj', 'country': 'Bangladesh'}], 'family': 'yes', 'habit': ['Reading', 'Music', 'Roaming', {'Riding1': 'MC', 'Riding2': 'C'}], 'profession': 'Software Engineer', 'kids': 'Wafia, Waziha, Adiyat', 'spouce': 'yes', 'spouce_name': 'Kazi Farhana Haque', 'Height': '5 feet 8 inch', 'height': '5 feet 7.9 inch'} \n",
      "\n",
      "{'first_name': 'Tanvir', 'last_name': 'Khan', 'age': 40, 'address': [{'house no': 295, 'road': 'Elephant Road', 'thana': 'New Market', 'po': 1205, 'district': 'Dhaka', 'country': 'Bangladesh'}, {'village': 'Munshiganj', 'thana': 'Chardumuria', 'po': 3305, 'district': 'Munshiganj', 'country': 'Bangladesh'}], 'family': 'yes', 'habit': ['Reading', 'Music', 'Roaming', {'Riding1': 'MC', 'Riding2': 'CAR'}], 'profession': 'Software Engineer', 'kids': 'Wafia, Waziha, Adiyat', 'spouce': 'yes', 'spouce_name': 'Kazi Farhana Haque', 'Height': '5 feet 8 inch', 'height': '5 feet 7.9 inch'} \n",
      "\n"
     ]
    }
   ],
   "source": [
    "def spouce_name():\n",
    "    return 'Kazi Farhana Haque'\n",
    "\n",
    "def kids_name():\n",
    "    return 'Wafia, Waziha, Adiyat'\n",
    "\n",
    "my_profile = {\n",
    "    'first_name': 'Tanvir',\n",
    "    'last_name': 'Khan',\n",
    "    'age': 42,\n",
    "    'address': [\n",
    "        {\n",
    "            'house no': 295,\n",
    "            'road': 'Elephant Road',\n",
    "            'thana': 'New Market',\n",
    "            'po': 1205,\n",
    "            'district': 'Dhaka',\n",
    "            'country': 'Bangladesh'\n",
    "        }, \n",
    "        {\n",
    "            'village': 'Munshiganj',\n",
    "            'thana': 'Chardumuria',\n",
    "            'po': 3305,\n",
    "            'district': 'Munshiganj',\n",
    "            'country': 'Bangladesh'\n",
    "        }\n",
    "    ],\n",
    "    'family': 'yes',\n",
    "    'habit': ['Reading', 'Music', 'Roaming', {\n",
    "        'Riding1': 'MC',\n",
    "        'Riding2': 'C'\n",
    "    }],\n",
    "    'profession': 'Software Engineer',\n",
    "    'kids': kids_name(),\n",
    "    'spouce': 'yes',\n",
    "    'spouce_name': spouce_name()\n",
    "}\n",
    "\n",
    "print(f'{my_profile} \\n')\n",
    "print(f'{my_profile.keys()} \\n')\n",
    "print(f'{my_profile.values()} \\n')\n",
    "print(f'{my_profile['first_name'] + ' ' + my_profile['last_name']} \\n')\n",
    "print(f'{my_profile['address'][0]} \\n')\n",
    "print(f'{my_profile['address'][0]['district']} \\n')\n",
    "print(f'{my_profile['kids']} \\n')\n",
    "print(f'{my_profile['spouce_name']} \\n')\n",
    "print(f'{my_profile.items()} \\n')\n",
    "my_profile['Height'] = '5 feet 8 inch'\n",
    "print(f'{my_profile } \\n')\n",
    "my_profile.update({\n",
    "    'age': 40,\n",
    "    'height': '5 feet 7.9 inch'\n",
    "})\n",
    "print(f'{my_profile } \\n')\n",
    "my_profile['habit'][3]['Riding2'] = 'CAR'\n",
    "print(f'{my_profile } \\n')\n",
    "# my_profile_equal = my_profile\n",
    "# my_profile_copy = my_profile.copy()"
   ]
  },
  {
   "cell_type": "markdown",
   "id": "63c8aea2-15a6-4bf9-96e4-aa3011743d74",
   "metadata": {},
   "source": [
    "## Copy of a dictionary"
   ]
  },
  {
   "cell_type": "code",
   "execution_count": 24,
   "id": "69f58df1-af58-4d5d-802f-4614443a5eec",
   "metadata": {},
   "outputs": [
    {
     "name": "stdout",
     "output_type": "stream",
     "text": [
      "{'first_name': 'Tanvir', 'last_name': 'Khan', 'age': 40, 'address': [{'house no': 295, 'road': 'Elephant Road', 'thana': 'New Market', 'po': 1205, 'district': 'Dhaka', 'country': 'Bangladesh'}, {'village': 'Munshiganj', 'thana': 'Chardumuria', 'po': 3305, 'district': 'Munshiganj', 'country': 'Bangladesh'}], 'family': 'yes', 'habit': ['Reading', 'Music', 'Roaming', {'Riding1': 'MC', 'Riding2': 'CAR'}], 'profession': 'Software Engineer', 'kids': 'Wafia, Waziha, Adiyat', 'spouce': 'yes', 'spouce_name': 'Kazi Farhana Haque', 'Height': '5 feet 8 inch', 'height': '5 feet 7.9 inch'} \n",
      "\n",
      "{'first_name': 'Tanvir', 'last_name': 'Khan', 'age': 40, 'address': [{'house no': 295, 'road': 'Elephant Road', 'thana': 'New Market', 'po': 1205, 'district': 'Dhaka', 'country': 'Bangladesh'}, {'village': 'Munshiganj', 'thana': 'Chardumuria', 'po': 3305, 'district': 'Munshiganj', 'country': 'Bangladesh'}], 'family': 'yes', 'habit': ['Reading', 'Music', 'Roaming', {'Riding1': 'MC', 'Riding2': 'CAR'}], 'profession': 'Software Engineer', 'kids': 'Wafia, Waziha, Adiyat', 'spouce': 'yes', 'spouce_name': 'Kazi Farhana Haque', 'Height': '5 feet 8 inch', 'height': '5 feet 7.9 inch'} \n",
      "\n"
     ]
    }
   ],
   "source": [
    "my_profile_copy = my_profile.copy()\n",
    "print(f'{my_profile_copy} \\n')\n",
    "my_profile_equal = my_profile\n",
    "print(f'{my_profile_equal} \\n')"
   ]
  },
  {
   "cell_type": "markdown",
   "id": "3ae6caaf-a817-42aa-9897-ab67131dee0e",
   "metadata": {},
   "source": [
    "## Remove element"
   ]
  },
  {
   "cell_type": "code",
   "execution_count": 25,
   "id": "eb6b5d6e-693c-4623-a811-21764dd771c3",
   "metadata": {},
   "outputs": [
    {
     "name": "stdout",
     "output_type": "stream",
     "text": [
      "{'last_name': 'Khan', 'age': 40, 'address': [{'house no': 295, 'road': 'Elephant Road', 'thana': 'New Market', 'po': 1205, 'district': 'Dhaka', 'country': 'Bangladesh'}, {'village': 'Munshiganj', 'thana': 'Chardumuria', 'po': 3305, 'district': 'Munshiganj', 'country': 'Bangladesh'}], 'family': 'yes', 'habit': ['Reading', 'Music', 'Roaming', {'Riding1': 'MC', 'Riding2': 'CAR'}], 'profession': 'Software Engineer', 'kids': 'Wafia, Waziha, Adiyat', 'spouce': 'yes', 'spouce_name': 'Kazi Farhana Haque', 'Height': '5 feet 8 inch', 'height': '5 feet 7.9 inch'} \n",
      "\n",
      "{'last_name': 'Khan', 'age': 40, 'address': [{'house no': 295, 'road': 'Elephant Road', 'thana': 'New Market', 'po': 1205, 'district': 'Dhaka', 'country': 'Bangladesh'}, {'village': 'Munshiganj', 'thana': 'Chardumuria', 'po': 3305, 'district': 'Munshiganj', 'country': 'Bangladesh'}], 'family': 'yes', 'habit': ['Reading', 'Music', 'Roaming', {'Riding1': 'MC', 'Riding2': 'CAR'}], 'profession': 'Software Engineer', 'kids': 'Wafia, Waziha, Adiyat', 'spouce': 'yes', 'spouce_name': 'Kazi Farhana Haque', 'Height': '5 feet 8 inch', 'height': '5 feet 7.9 inch'} \n",
      "\n",
      "{'first_name': 'Tanvir', 'last_name': 'Khan', 'age': 40, 'address': [{'house no': 295, 'road': 'Elephant Road', 'thana': 'New Market', 'po': 1205, 'district': 'Dhaka', 'country': 'Bangladesh'}, {'village': 'Munshiganj', 'thana': 'Chardumuria', 'po': 3305, 'district': 'Munshiganj', 'country': 'Bangladesh'}], 'family': 'yes', 'habit': ['Reading', 'Music', 'Roaming', {'Riding1': 'MC', 'Riding2': 'CAR'}], 'profession': 'Software Engineer', 'kids': 'Wafia, Waziha, Adiyat', 'spouce': 'yes', 'spouce_name': 'Kazi Farhana Haque', 'Height': '5 feet 8 inch', 'height': '5 feet 7.9 inch'} \n",
      "\n",
      "{'last_name': 'Khan', 'age': 40, 'family': 'yes', 'habit': ['Reading', 'Music', 'Roaming', {'Riding1': 'MC', 'Riding2': 'CAR'}], 'profession': 'Software Engineer', 'kids': 'Wafia, Waziha, Adiyat', 'spouce': 'yes', 'spouce_name': 'Kazi Farhana Haque', 'Height': '5 feet 8 inch', 'height': '5 feet 7.9 inch'} \n",
      "\n",
      "{'last_name': 'Khan', 'age': 40, 'family': 'yes', 'habit': ['Reading', 'Music', 'Roaming', {'Riding1': 'MC', 'Riding2': 'CAR'}], 'profession': 'Software Engineer', 'kids': 'Wafia, Waziha, Adiyat', 'spouce': 'yes', 'spouce_name': 'Kazi Farhana Haque', 'Height': '5 feet 8 inch', 'height': '5 feet 7.9 inch'} \n",
      "\n",
      "{'first_name': 'Tanvir', 'last_name': 'Khan', 'age': 40, 'address': [{'house no': 295, 'road': 'Elephant Road', 'thana': 'New Market', 'po': 1205, 'district': 'Dhaka', 'country': 'Bangladesh'}, {'village': 'Munshiganj', 'thana': 'Chardumuria', 'po': 3305, 'district': 'Munshiganj', 'country': 'Bangladesh'}], 'family': 'yes', 'habit': ['Reading', 'Music', 'Roaming', {'Riding1': 'MC', 'Riding2': 'CAR'}], 'profession': 'Software Engineer', 'kids': 'Wafia, Waziha, Adiyat', 'spouce': 'yes', 'spouce_name': 'Kazi Farhana Haque', 'Height': '5 feet 8 inch', 'height': '5 feet 7.9 inch'} \n",
      "\n",
      "{} \n",
      "\n",
      "{} \n",
      "\n",
      "{'first_name': 'Tanvir', 'last_name': 'Khan', 'age': 40, 'address': [{'house no': 295, 'road': 'Elephant Road', 'thana': 'New Market', 'po': 1205, 'district': 'Dhaka', 'country': 'Bangladesh'}, {'village': 'Munshiganj', 'thana': 'Chardumuria', 'po': 3305, 'district': 'Munshiganj', 'country': 'Bangladesh'}], 'family': 'yes', 'habit': ['Reading', 'Music', 'Roaming', {'Riding1': 'MC', 'Riding2': 'CAR'}], 'profession': 'Software Engineer', 'kids': 'Wafia, Waziha, Adiyat', 'spouce': 'yes', 'spouce_name': 'Kazi Farhana Haque', 'Height': '5 feet 8 inch', 'height': '5 feet 7.9 inch'} \n",
      "\n"
     ]
    }
   ],
   "source": [
    "my_profile_equal.pop('first_name')\n",
    "print(f'{my_profile_equal} \\n')\n",
    "print(f'{my_profile} \\n')\n",
    "print(f'{my_profile_copy} \\n')\n",
    "del my_profile_equal['address']\n",
    "print(f'{my_profile_equal} \\n')\n",
    "print(f'{my_profile} \\n')\n",
    "print(f'{my_profile_copy} \\n')\n",
    "my_profile_equal.clear()\n",
    "print(f'{my_profile_equal} \\n')\n",
    "print(f'{my_profile} \\n')\n",
    "print(f'{my_profile_copy} \\n')"
   ]
  },
  {
   "cell_type": "code",
   "execution_count": null,
   "id": "a8f75619-1936-4f77-83a0-cdd98f73a410",
   "metadata": {},
   "outputs": [],
   "source": []
  }
 ],
 "metadata": {
  "kernelspec": {
   "display_name": "Python 3 (ipykernel)",
   "language": "python",
   "name": "python3"
  },
  "language_info": {
   "codemirror_mode": {
    "name": "ipython",
    "version": 3
   },
   "file_extension": ".py",
   "mimetype": "text/x-python",
   "name": "python",
   "nbconvert_exporter": "python",
   "pygments_lexer": "ipython3",
   "version": "3.13.5"
  }
 },
 "nbformat": 4,
 "nbformat_minor": 5
}
