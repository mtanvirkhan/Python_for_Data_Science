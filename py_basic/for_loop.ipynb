{
 "cells": [
  {
   "cell_type": "code",
   "execution_count": 6,
   "id": "106b1c30-f834-4eac-88af-8b927c9cdf42",
   "metadata": {},
   "outputs": [
    {
     "name": "stdout",
     "output_type": "stream",
     "text": [
      "Japan\n",
      "Finland\n",
      "UK\n",
      "USA\n",
      "Singapore\n",
      "Malaysia\n",
      "Indonesia\n",
      "\n",
      "\n",
      "0 Japan\n",
      "1 Finland\n",
      "2 UK\n",
      "3 USA\n",
      "4 Singapore\n",
      "5 Malaysia\n",
      "6 Indonesia\n"
     ]
    }
   ],
   "source": [
    "countries = ['Japan', 'Finland', 'UK', 'USA', 'Singapore', 'Malaysia', 'Indonesia']\n",
    "for country in countries:\n",
    "    print(country)\n",
    "print('\\n')\n",
    "for i, country in enumerate(countries):\n",
    "    print(i, country)    "
   ]
  },
  {
   "cell_type": "code",
   "execution_count": 16,
   "id": "e0c869a4-77c0-4ca7-950e-c9aeddfb822c",
   "metadata": {},
   "outputs": [
    {
     "name": "stdout",
     "output_type": "stream",
     "text": [
      "dict_items([('first_name', 'Tanvir'), ('last_name', 'Khan'), ('age', 42), ('address', [{'house no': 295, 'road': 'Elephant Road', 'thana': 'New Market', 'po': 1205, 'district': 'Dhaka', 'country': 'Bangladesh'}, {'village': 'Munshiganj', 'thana': 'Chardumuria', 'po': 3305, 'district': 'Munshiganj', 'country': 'Bangladesh'}]), ('family', 'yes'), ('habit', ['Reading', 'Music', 'Roaming', {'Riding1': 'MC', 'Riding2': 'C'}]), ('profession', 'Software Engineer'), ('kids', 'Wafia, Waziha, Adiyat'), ('spouce', 'yes'), ('spouce_name', 'Kazi Farhana Haque')]) \n",
      "\n",
      "first_name Tanvir\n",
      "last_name Khan\n",
      "age 42\n",
      "address [{'house no': 295, 'road': 'Elephant Road', 'thana': 'New Market', 'po': 1205, 'district': 'Dhaka', 'country': 'Bangladesh'}, {'village': 'Munshiganj', 'thana': 'Chardumuria', 'po': 3305, 'district': 'Munshiganj', 'country': 'Bangladesh'}]\n",
      "family yes\n",
      "habit ['Reading', 'Music', 'Roaming', {'Riding1': 'MC', 'Riding2': 'C'}]\n",
      "profession Software Engineer\n",
      "kids Wafia, Waziha, Adiyat\n",
      "spouce yes\n",
      "spouce_name Kazi Farhana Haque\n",
      "<class 'dict'>\n"
     ]
    }
   ],
   "source": [
    "def spouce_name():\n",
    "    return 'Kazi Farhana Haque'\n",
    "\n",
    "def kids_name():\n",
    "    return 'Wafia, Waziha, Adiyat'\n",
    "\n",
    "my_profile = {\n",
    "    'first_name': 'Tanvir',\n",
    "    'last_name': 'Khan',\n",
    "    'age': 42,\n",
    "    'address': [\n",
    "        {\n",
    "            'house no': 295,\n",
    "            'road': 'Elephant Road',\n",
    "            'thana': 'New Market',\n",
    "            'po': 1205,\n",
    "            'district': 'Dhaka',\n",
    "            'country': 'Bangladesh'\n",
    "        }, \n",
    "        {\n",
    "            'village': 'Munshiganj',\n",
    "            'thana': 'Chardumuria',\n",
    "            'po': 3305,\n",
    "            'district': 'Munshiganj',\n",
    "            'country': 'Bangladesh'\n",
    "        }\n",
    "    ],\n",
    "    'family': 'yes',\n",
    "    'habit': ['Reading', 'Music', 'Roaming', {\n",
    "        'Riding1': 'MC',\n",
    "        'Riding2': 'C'\n",
    "    }],\n",
    "    'profession': 'Software Engineer',\n",
    "    'kids': kids_name(),\n",
    "    'spouce': 'yes',\n",
    "    'spouce_name': spouce_name()\n",
    "}\n",
    "\n",
    "print(f'{my_profile.items()} \\n')\n",
    "\n",
    "for key, value in my_profile.items():\n",
    "    print(key, value)\n",
    "\n",
    "print(type(my_profile))"
   ]
  },
  {
   "cell_type": "code",
   "execution_count": null,
   "id": "9e3216e9-c6a9-4a47-84a2-85908de52fd4",
   "metadata": {},
   "outputs": [],
   "source": []
  }
 ],
 "metadata": {
  "kernelspec": {
   "display_name": "Python 3 (ipykernel)",
   "language": "python",
   "name": "python3"
  },
  "language_info": {
   "codemirror_mode": {
    "name": "ipython",
    "version": 3
   },
   "file_extension": ".py",
   "mimetype": "text/x-python",
   "name": "python",
   "nbconvert_exporter": "python",
   "pygments_lexer": "ipython3",
   "version": "3.13.5"
  }
 },
 "nbformat": 4,
 "nbformat_minor": 5
}
