{
 "cells": [
  {
   "cell_type": "markdown",
   "id": "c09c397a-55b9-45de-8f77-0615c31ec0c4",
   "metadata": {},
   "source": [
    "# Module"
   ]
  },
  {
   "cell_type": "code",
   "execution_count": 24,
   "id": "e4b1dc3f-0018-4898-9c57-92684f52dad4",
   "metadata": {},
   "outputs": [
    {
     "data": {
      "text/plain": [
       "'C:\\\\Users\\\\mtanv\\\\Anaconda Scripts'"
      ]
     },
     "execution_count": 24,
     "metadata": {},
     "output_type": "execute_result"
    }
   ],
   "source": [
    "import os\n",
    "os.getcwd()"
   ]
  },
  {
   "cell_type": "code",
   "execution_count": 25,
   "id": "ae63357d-019a-4e98-93eb-021b8458cd22",
   "metadata": {},
   "outputs": [
    {
     "data": {
      "text/plain": [
       "['.ipynb_checkpoints',\n",
       " 'example.ipynb',\n",
       " 'if_else_for.ipynb',\n",
       " 'python_basis.ipynb',\n",
       " 'python_dictionary.ipynb',\n",
       " 'python_for_loop.ipynb',\n",
       " 'python_function.ipynb',\n",
       " 'python_list_slice.ipynb',\n",
       " 'python_module.ipynb',\n",
       " 'python_variables.ipynb']"
      ]
     },
     "execution_count": 25,
     "metadata": {},
     "output_type": "execute_result"
    }
   ],
   "source": [
    "os.listdir()"
   ]
  },
  {
   "cell_type": "code",
   "execution_count": 29,
   "id": "6ab1d7e2-bc29-4ae6-b9ea-c5d51f7c2973",
   "metadata": {
    "scrolled": true
   },
   "outputs": [],
   "source": [
    "os.makedirs(\"New Folder\")"
   ]
  },
  {
   "cell_type": "code",
   "execution_count": 27,
   "id": "b416090f-5337-4ca1-9d7f-7444ced9517e",
   "metadata": {},
   "outputs": [
    {
     "data": {
      "text/plain": [
       "['.ipynb_checkpoints',\n",
       " 'example.ipynb',\n",
       " 'if_else_for.ipynb',\n",
       " 'New Folder',\n",
       " 'python_basis.ipynb',\n",
       " 'python_dictionary.ipynb',\n",
       " 'python_for_loop.ipynb',\n",
       " 'python_function.ipynb',\n",
       " 'python_list_slice.ipynb',\n",
       " 'python_module.ipynb',\n",
       " 'python_variables.ipynb']"
      ]
     },
     "execution_count": 27,
     "metadata": {},
     "output_type": "execute_result"
    }
   ],
   "source": [
    "os.listdir()"
   ]
  },
  {
   "cell_type": "code",
   "execution_count": null,
   "id": "c3eb2776-f1ad-4405-b901-3331f70a9f70",
   "metadata": {},
   "outputs": [],
   "source": []
  }
 ],
 "metadata": {
  "kernelspec": {
   "display_name": "Python 3 (ipykernel)",
   "language": "python",
   "name": "python3"
  },
  "language_info": {
   "codemirror_mode": {
    "name": "ipython",
    "version": 3
   },
   "file_extension": ".py",
   "mimetype": "text/x-python",
   "name": "python",
   "nbconvert_exporter": "python",
   "pygments_lexer": "ipython3",
   "version": "3.13.5"
  }
 },
 "nbformat": 4,
 "nbformat_minor": 5
}
